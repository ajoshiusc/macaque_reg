{
 "cells": [
  {
   "cell_type": "code",
   "execution_count": null,
   "metadata": {},
   "outputs": [],
   "source": [
    "import nilearn.image as ni\n",
    "import nibabel as nb\n",
    "from nilearn.plotting import plot_anat, plot_prob_atlas\n",
    "import SimpleITK as sitk\n",
    "from utils import pad_nifti_image, multires_registration\n",
    "\n",
    "# %matplotlib notebook\n",
    "# import gui"
   ]
  },
  {
   "cell_type": "code",
   "execution_count": null,
   "metadata": {},
   "outputs": [],
   "source": [
    "sub_bse_t2_orig = \"/deneb_disk/macaque_atlas_data/test_data/MAC10.nii.gz\"\n",
    "sub_bse_t2 = \"/deneb_disk/macaque_atlas_data/test_data/MAC10_pad.nii.gz\"\n",
    "sub_mask_t2_orig = \"/deneb_disk/macaque_atlas_data/test_data/MAC10.mask.nii.gz\"\n",
    "sub_mask_t2 = \"/deneb_disk/macaque_atlas_data/test_data/MAC10_pad.mask.nii.gz\"\n",
    "\n",
    "atlas_bse_t2 = \"/deneb_disk/macaque_atlas_data/macaque_atlas/ONPRC18_atlas_v1/ONPRC18_Templates/ONPRC18_T2W_brain.nii.gz\"\n",
    "atlas_labels = \"/deneb_disk/macaque_atlas_data/macaque_atlas/ONPRC18_atlas_v1/ONPRC18_Labelmaps/ONPRC18_GrayMatterWhiteMatterLabelmap.nii.gz\"\n",
    "\n",
    "centered_atlas = \"/deneb_disk/macaque_atlas_data/test_data/atlas.nii.gz\"\n",
    "\n",
    "PAD = 10\n",
    "\n",
    "plot_anat(sub_bse_t2_orig)\n",
    "d = plot_anat(atlas_bse_t2)\n",
    "d.add_contours(atlas_labels, color='r')"
   ]
  },
  {
   "cell_type": "code",
   "execution_count": null,
   "metadata": {},
   "outputs": [],
   "source": [
    "pad_nifti_image(sub_bse_t2_orig, sub_bse_t2, PAD)\n",
    "pad_nifti_image(sub_mask_t2_orig, sub_mask_t2, PAD)\n",
    "plot_anat(sub_bse_t2)"
   ]
  },
  {
   "cell_type": "code",
   "execution_count": null,
   "metadata": {},
   "outputs": [],
   "source": [
    "fixed_image = sitk.ReadImage(sub_bse_t2, sitk.sitkFloat32)\n",
    "moving_image = sitk.ReadImage(atlas_bse_t2, sitk.sitkFloat32)\n",
    "initial_transform = sitk.CenteredTransformInitializer(\n",
    "    fixed_image,\n",
    "    moving_image,\n",
    "    sitk.Euler3DTransform(),\n",
    "    sitk.CenteredTransformInitializerFilter.GEOMETRY,\n",
    ")\n",
    "\n",
    "final_transform, _ = multires_registration(fixed_image, moving_image, initial_transform)\n",
    "\n",
    "moved_image = sitk.Resample(moving_image, fixed_image, final_transform)\n",
    "\n",
    "sitk.WriteImage(moved_image, centered_atlas)\n",
    "\n",
    "\n",
    "plot_anat(centered_atlas, cut_coords=(0, 0, 0))\n",
    "plot_anat(sub_bse_t2, cut_coords=(0, 0, 0))\n",
    "\n",
    "atlas = ni.resample_to_img(centered_atlas, sub_bse_t2)\n",
    "plot_anat(atlas, cut_coords=(0, 0, 0))\n",
    "\n",
    "\n",
    "\"\"\"\n",
    "reader = sitk.ImageSeriesReader()\n",
    "fixed_image = sitk.ReadImage(sub_bse_t2, sitk.sitkFloat32)\n",
    "moving_image = sitk.ReadImage(atlas_bse_t2, sitk.sitkFloat32)\n",
    "\n",
    "\n",
    "\n",
    "gui.MultiImageDisplay(image_list = [fixed_image, moving_image],                   \n",
    "                      title_list = ['fixed image', 'moving image']);\n",
    "\"\"\""
   ]
  },
  {
   "cell_type": "code",
   "execution_count": null,
   "metadata": {},
   "outputs": [],
   "source": [
    "sub_msk = ni.load_img(sub_mask_t2)\n",
    "print(sub_msk.shape)\n",
    "plot_anat(sub_msk)\n",
    "plot_anat(atlas_bse_t2)\n",
    "\n",
    "sub_msk = ni.crop_img(sub_msk)\n",
    "atlas = ni.crop_img(atlas_bse_t2)\n",
    "\n",
    "print(sub_msk.shape)\n",
    "plot_anat(sub_msk)\n",
    "plot_anat(atlas)\n",
    "\n",
    "\n",
    "fixed_image = sub_bse_t2\n",
    "moving_image = atlas_bse_t2\n",
    "initial_transform = sitk.CenteredTransformInitializer(\n",
    "    fixed_image,\n",
    "    moving_image,\n",
    "    sitk.Euler3DTransform(),\n",
    "    sitk.CenteredTransformInitializerFilter.GEOMETRY,\n",
    ")\n",
    "\n",
    "final_transform, _ = multires_registration(fixed_image, moving_image, initial_transform)\n",
    "\n",
    "\n",
    "atlas = ni.resample_to_img(atlas, sub_msk)\n",
    "plot_anat(atlas)"
   ]
  },
  {
   "cell_type": "markdown",
   "metadata": {},
   "source": []
  },
  {
   "cell_type": "code",
   "execution_count": null,
   "metadata": {},
   "outputs": [],
   "source": []
  }
 ],
 "metadata": {
  "kernelspec": {
   "display_name": "Python 3 (ipykernel)",
   "language": "python",
   "name": "python3"
  },
  "language_info": {
   "codemirror_mode": {
    "name": "ipython",
    "version": 3
   },
   "file_extension": ".py",
   "mimetype": "text/x-python",
   "name": "python",
   "nbconvert_exporter": "python",
   "pygments_lexer": "ipython3",
   "version": "3.10.12"
  }
 },
 "nbformat": 4,
 "nbformat_minor": 2
}
