{
 "cells": [
  {
   "cell_type": "code",
   "execution_count": null,
   "metadata": {},
   "outputs": [],
   "source": [
    "import nilearn.image as ni\n",
    "import nibabel as nb\n",
    "from nilearn.plotting import plot_anat, plot_prob_atlas, show\n",
    "import SimpleITK as sitk\n",
    "from utils import pad_nifti_image, multires_registration\n",
    "from aligner import Aligner\n",
    "from warp_utils import apply_warp\n",
    "import numpy as np\n",
    "from monai.transforms import LoadImage, EnsureChannelFirst\n",
    "\n",
    "# %matplotlib notebook\n",
    "# import gui"
   ]
  },
  {
   "cell_type": "code",
   "execution_count": null,
   "metadata": {},
   "outputs": [],
   "source": [
    "sub_bse_t2_orig = \"/deneb_disk/macaque_atlas_data/test_data/MAC10.nii.gz\"\n",
    "sub_bse_t2 = \"/deneb_disk/macaque_atlas_data/test_data/MAC10_pad.nii.gz\"\n",
    "sub_mask_t2_orig = \"/deneb_disk/macaque_atlas_data/test_data/MAC10.mask.nii.gz\"\n",
    "sub_mask_t2 = \"/deneb_disk/macaque_atlas_data/test_data/MAC10_pad.mask.nii.gz\"\n",
    "\n",
    "atlas_bse_t2 = \"/deneb_disk/macaque_atlas_data/macaque_atlas/ONPRC18_atlas_v1/ONPRC18_Templates/ONPRC18_T2W_brain.nii.gz\"\n",
    "atlas_labels = \"/deneb_disk/macaque_atlas_data/macaque_atlas/ONPRC18_atlas_v1/ONPRC18_Labelmaps/ONPRC18_GrayMatterWhiteMatterLabelmap.nii.gz\"\n",
    "\n",
    "centered_atlas = \"/deneb_disk/macaque_atlas_data/test_data/atlas.nii.gz\"\n",
    "centered_atlas_labels = \"/deneb_disk/macaque_atlas_data/test_data/atlas.label.nii.gz\"\n",
    "\n",
    "lin_reg_map_file = \"/deneb_disk/macaque_atlas_data/test_data/lin_ddf.nii.gz\"\n",
    "\n",
    "centered_atlas_linreg = \"/deneb_disk/macaque_atlas_data/test_data/atlas_lin.nii.gz\"\n",
    "centered_atlas_linreg_labels = \"/deneb_disk/macaque_atlas_data/test_data/atlas_lin.label.nii.gz\"\n",
    "\n",
    "PAD = 10\n",
    "\n",
    "plot_anat(sub_bse_t2_orig)\n",
    "d = plot_anat(atlas_bse_t2)\n",
    "d.add_contours(atlas_labels, color='r')"
   ]
  },
  {
   "cell_type": "code",
   "execution_count": null,
   "metadata": {},
   "outputs": [],
   "source": [
    "pad_nifti_image(sub_bse_t2_orig, sub_bse_t2, PAD)\n",
    "pad_nifti_image(sub_mask_t2_orig, sub_mask_t2, PAD)\n",
    "plot_anat(sub_bse_t2)"
   ]
  },
  {
   "cell_type": "code",
   "execution_count": null,
   "metadata": {},
   "outputs": [],
   "source": [
    "fixed_image = sitk.ReadImage(sub_bse_t2, sitk.sitkFloat32)\n",
    "moving_image = sitk.ReadImage(atlas_bse_t2, sitk.sitkFloat32)\n",
    "initial_transform = sitk.CenteredTransformInitializer(\n",
    "    fixed_image,\n",
    "    moving_image,\n",
    "    sitk.Euler3DTransform(),\n",
    "    sitk.CenteredTransformInitializerFilter.GEOMETRY,\n",
    ")\n",
    "\n",
    "final_transform, _ = multires_registration(fixed_image, moving_image, initial_transform)\n",
    "\n",
    "moved_image = sitk.Resample(moving_image, fixed_image, final_transform)\n",
    "\n",
    "sitk.WriteImage(moved_image, centered_atlas)\n",
    "\n",
    "moving_image = sitk.ReadImage(atlas_labels,sitk.sitkUInt16)\n",
    "moved_image = sitk.Resample(moving_image, fixed_image, transform=final_transform,interpolator=sitk.sitkNearestNeighbor)\n",
    "sitk.WriteImage(moved_image, centered_atlas_labels)\n",
    "\n",
    "\n",
    "plot_anat(centered_atlas, cut_coords=(0, 0, 0))\n",
    "plot_anat(sub_bse_t2, cut_coords=(0, 0, 0))\n",
    "plot_anat(centered_atlas_labels,cut_coords=(0,0,0))\n",
    "\n",
    "show()\n",
    "\n",
    "\n",
    "\"\"\"\n",
    "reader = sitk.ImageSeriesReader()\n",
    "fixed_image = sitk.ReadImage(sub_bse_t2, sitk.sitkFloat32)\n",
    "moving_image = sitk.ReadImage(atlas_bse_t2, sitk.sitkFloat32)\n",
    "\n",
    "\n",
    "\n",
    "gui.MultiImageDisplay(image_list = [fixed_image, moving_image],                   \n",
    "                      title_list = ['fixed image', 'moving image']);\n",
    "\"\"\""
   ]
  },
  {
   "cell_type": "markdown",
   "metadata": {},
   "source": []
  },
  {
   "cell_type": "code",
   "execution_count": null,
   "metadata": {},
   "outputs": [],
   "source": [
    "aligner=Aligner()\n",
    "aligner.affine_reg(fixed_file=sub_bse_t2, moving_file=centered_atlas, output_file=centered_atlas_linreg, ddf_file=lin_reg_map_file)\n",
    "\n",
    "plot_anat(sub_bse_t2,cut_coords=(0,0,0))\n",
    "plot_anat(centered_atlas,cut_coords=(0,0,0))\n",
    "plot_anat(centered_atlas_linreg,cut_coords=(0,0,0))\n",
    "\n",
    "\n"
   ]
  },
  {
   "cell_type": "code",
   "execution_count": null,
   "metadata": {},
   "outputs": [],
   "source": []
  },
  {
   "cell_type": "code",
   "execution_count": null,
   "metadata": {},
   "outputs": [],
   "source": [
    "\n",
    "#disp_field=nb.load(lin_reg_map_file).get_fdata()\n",
    "\n",
    "disp_field, meta = LoadImage()(lin_reg_map_file)\n",
    "disp_field = EnsureChannelFirst()(disp_field)\n",
    "print(disp_field.shape)\n",
    "\n",
    "at1, meta = LoadImage()(centered_atlas_labels)\n",
    "at_lab = EnsureChannelFirst()(at1)\n",
    "\n",
    "#disp_field=np.transpose(disp_field,axes=(3,0,1,2))\n",
    "#disp_field=disp_field[None,]\n",
    "print(at_lab.shape)\n",
    "\n",
    "#at1 = nb.load(centered_atlas_labels)\n",
    "#at_lab=at1.get_fdata()\n",
    "#at_lab.shape\n",
    "#at_lab = at_lab[None,None]\n",
    "warped_lab=apply_warp(disp_field[None,], at_lab[None,], at_lab[None,], interp_mode='nearest')\n",
    "nb.save(nb.Nifti1Image(warped_lab[0, 0].detach().cpu().numpy(), at_lab.affine), centered_atlas_linreg_labels)\n",
    "\n",
    "#plot_anat(centered_atlas_linreg_labels,cut_coords=(0,0,0))\n"
   ]
  },
  {
   "cell_type": "code",
   "execution_count": null,
   "metadata": {},
   "outputs": [],
   "source": [
    "\n",
    "d = plot_anat(sub_bse_t2,vmax=1400)\n",
    "d.add_contours(centered_atlas_labels, cmap ='prism')\n",
    "d = plot_anat(sub_bse_t2,vmax=1400)\n",
    "d.add_contours(centered_atlas_linreg_labels, cmap ='prism')"
   ]
  }
 ],
 "metadata": {
  "kernelspec": {
   "display_name": "Python 3 (ipykernel)",
   "language": "python",
   "name": "python3"
  },
  "language_info": {
   "codemirror_mode": {
    "name": "ipython",
    "version": 3
   },
   "file_extension": ".py",
   "mimetype": "text/x-python",
   "name": "python",
   "nbconvert_exporter": "python",
   "pygments_lexer": "ipython3",
   "version": "3.10.12"
  }
 },
 "nbformat": 4,
 "nbformat_minor": 2
}
